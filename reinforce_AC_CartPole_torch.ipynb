{
  "nbformat": 4,
  "nbformat_minor": 0,
  "metadata": {
    "colab": {
      "name": "reinforce-AC-CartPole-torch.ipynb",
      "provenance": [],
      "collapsed_sections": [],
      "include_colab_link": true
    },
    "kernelspec": {
      "name": "python3",
      "display_name": "Python 3"
    },
    "accelerator": "GPU"
  },
  "cells": [
    {
      "cell_type": "markdown",
      "metadata": {
        "id": "view-in-github",
        "colab_type": "text"
      },
      "source": [
        "<a href=\"https://colab.research.google.com/github/oroojlooy/RL_pytorch/blob/master/reinforce_AC_CartPole_torch.ipynb\" target=\"_parent\"><img src=\"https://colab.research.google.com/assets/colab-badge.svg\" alt=\"Open In Colab\"/></a>"
      ]
    },
    {
      "cell_type": "code",
      "metadata": {
        "id": "eJqIx--gMVhT",
        "colab_type": "code",
        "colab": {}
      },
      "source": [
        ""
      ],
      "execution_count": null,
      "outputs": []
    },
    {
      "cell_type": "code",
      "metadata": {
        "id": "qjTnUfcUA_Bh",
        "colab_type": "code",
        "colab": {}
      },
      "source": [
        "# !pip install --upgrade gym\n",
        "# !pip install --upgrade torch"
      ],
      "execution_count": 1,
      "outputs": []
    },
    {
      "cell_type": "code",
      "metadata": {
        "id": "cmqNcyIXAT8Y",
        "colab_type": "code",
        "colab": {}
      },
      "source": [
        "import argparse\n",
        "import gym\n",
        "import numpy as np\n",
        "from itertools import count\n",
        "\n",
        "import torch\n",
        "import torch.nn as nn\n",
        "import torch.nn.functional as F\n",
        "import torch.optim as optim\n",
        "from torch.distributions import Categorical\n",
        "\n",
        "import time"
      ],
      "execution_count": 2,
      "outputs": []
    },
    {
      "cell_type": "markdown",
      "metadata": {
        "id": "k7Y73Kd4AT8d",
        "colab_type": "text"
      },
      "source": [
        "# parameters"
      ]
    },
    {
      "cell_type": "code",
      "metadata": {
        "id": "rwbldOLQAT8f",
        "colab_type": "code",
        "colab": {}
      },
      "source": [
        "parser = argparse.ArgumentParser(description='PyTorch REINFORCE example')\n",
        "parser.add_argument('--gamma', type=float, default=0.99, metavar='G',\n",
        "                    help='discount factor (default: 0.99)')\n",
        "parser.add_argument('--seed', type=int, default=543, metavar='N',\n",
        "                    help='random seed (default: 543)')\n",
        "parser.add_argument('--render', action='store_true',\n",
        "                    help='render the environment')\n",
        "parser.add_argument('--log-interval', type=int, default=200, metavar='N',\n",
        "                    help='interval between training status logs (default: 10)')\n",
        "args, unknown = parser.parse_known_args()\n"
      ],
      "execution_count": 3,
      "outputs": []
    },
    {
      "cell_type": "markdown",
      "metadata": {
        "id": "S7tCuXp-AT8i",
        "colab_type": "text"
      },
      "source": [
        "# create an environment"
      ]
    },
    {
      "cell_type": "code",
      "metadata": {
        "id": "fcX1dN16AT8j",
        "colab_type": "code",
        "colab": {
          "base_uri": "https://localhost:8080/",
          "height": 34
        },
        "outputId": "79c4ccf0-96cd-4709-f3bf-4388cd7287a3"
      },
      "source": [
        "# this environment has env.reset() and end.step() functions\n",
        "env = gym.make('CartPole-v0')\n",
        "env.seed(args.seed)\n",
        "torch.manual_seed(args.seed)\n"
      ],
      "execution_count": 4,
      "outputs": [
        {
          "output_type": "execute_result",
          "data": {
            "text/plain": [
              "<torch._C.Generator at 0x7fab1ac14348>"
            ]
          },
          "metadata": {
            "tags": []
          },
          "execution_count": 4
        }
      ]
    },
    {
      "cell_type": "code",
      "metadata": {
        "id": "-y254LZFAT8p",
        "colab_type": "code",
        "colab": {
          "base_uri": "https://localhost:8080/",
          "height": 34
        },
        "outputId": "5e2441cc-666b-4fe2-aadc-1e979aee4458"
      },
      "source": [
        "env.reset()\n",
        "# env.render()\n",
        "env.step(1)"
      ],
      "execution_count": 5,
      "outputs": [
        {
          "output_type": "execute_result",
          "data": {
            "text/plain": [
              "(array([ 0.00313956,  0.2222067 , -0.01409669, -0.31700878]), 1.0, False, {})"
            ]
          },
          "metadata": {
            "tags": []
          },
          "execution_count": 5
        }
      ]
    },
    {
      "cell_type": "markdown",
      "metadata": {
        "id": "X7jaeYIlAT8u",
        "colab_type": "text"
      },
      "source": [
        "# create actor network"
      ]
    },
    {
      "cell_type": "code",
      "metadata": {
        "id": "y8K7leovBfIa",
        "colab_type": "code",
        "colab": {}
      },
      "source": [
        ""
      ],
      "execution_count": 5,
      "outputs": []
    },
    {
      "cell_type": "code",
      "metadata": {
        "id": "MnGQtBAEAT8v",
        "colab_type": "code",
        "colab": {}
      },
      "source": [
        "class Actor(nn.Module):\n",
        "    # this class defines a policy network with two layer NN\n",
        "    def __init__(self):\n",
        "        super(Actor, self).__init__()\n",
        "        self.affine1 = nn.Linear(4, 30)\n",
        "        self.affine2 = nn.Linear(30, 2)\n",
        "\n",
        "    def forward(self, x):\n",
        "        ''' do the forward pass and return a probability over actions\n",
        "        Input:\n",
        "                x: state\n",
        "        returns:\n",
        "                prob: a probability distribution\n",
        "        '''\n",
        "        \n",
        "        x = F.relu(self.affine1(x))\n",
        "        action_scores = self.affine2(x)\n",
        "        prob = F.softmax(action_scores, dim=1)\n",
        "        return prob"
      ],
      "execution_count": 6,
      "outputs": []
    },
    {
      "cell_type": "markdown",
      "metadata": {
        "id": "QXQuyDXhAT8z",
        "colab_type": "text"
      },
      "source": [
        "# Critic network"
      ]
    },
    {
      "cell_type": "code",
      "metadata": {
        "id": "5TlyZZTQAT8z",
        "colab_type": "code",
        "colab": {}
      },
      "source": [
        "class Critic(nn.Module):\n",
        "    # this class defines a policy network with two layer NN\n",
        "    def __init__(self, in_d=4):\n",
        "        super(Critic, self).__init__()\n",
        "        self.affine1 = nn.Linear(in_d, 30)\n",
        "        self.affine2 = nn.Linear(30, 1)\n",
        "\n",
        "    def forward(self, x):\n",
        "        ''' do the forward pass and return a probability over actions\n",
        "        Input:\n",
        "                x: state\n",
        "        returns:\n",
        "                v: value of being at x\n",
        "        '''\n",
        "        \n",
        "        x = F.relu(self.affine1(x))\n",
        "        v = self.affine2(x).squeeze()\n",
        "        return v\n"
      ],
      "execution_count": 7,
      "outputs": []
    },
    {
      "cell_type": "markdown",
      "metadata": {
        "id": "6Vs-9MAYAT83",
        "colab_type": "text"
      },
      "source": [
        "# Create networks and optimizers\n"
      ]
    },
    {
      "cell_type": "code",
      "metadata": {
        "id": "-__a1C3aAT84",
        "colab_type": "code",
        "colab": {}
      },
      "source": [
        ""
      ],
      "execution_count": 7,
      "outputs": []
    },
    {
      "cell_type": "code",
      "metadata": {
        "id": "az8jMJnnDoau",
        "colab_type": "code",
        "colab": {}
      },
      "source": [
        ""
      ],
      "execution_count": 7,
      "outputs": []
    },
    {
      "cell_type": "markdown",
      "metadata": {
        "id": "ATtRw2qSAT8-",
        "colab_type": "text"
      },
      "source": [
        "# rollout funtion"
      ]
    },
    {
      "cell_type": "code",
      "metadata": {
        "id": "lBWDaywwAT9A",
        "colab_type": "code",
        "colab": {}
      },
      "source": [
        "def select_action(state):\n",
        "    # this function selects stochastic actions based on the policy probabilities\n",
        "    state = torch.from_numpy(state).float().unsqueeze(0)\n",
        "    probs = actor(state)\n",
        "    m = Categorical(probs)\n",
        "    action = m.sample()\n",
        "    log_prob = m.log_prob(action)\n",
        "    \n",
        "    return action.item(), log_prob"
      ],
      "execution_count": 8,
      "outputs": []
    },
    {
      "cell_type": "code",
      "metadata": {
        "id": "tfowBl_lBsUW",
        "colab_type": "code",
        "colab": {}
      },
      "source": [
        "# s=env.reset()\n",
        "# # select_action(s)\n",
        "# state = torch.from_numpy(s).float().unsqueeze(0)\n",
        "# probs = actor(state)\n",
        "# m = Categorical(probs)\n",
        "# action = m.sample()\n",
        "# log_prob = m.log_prob(action)\n",
        "# print(probs, m, action, log_prob)\n",
        "# # (tensor([[0.5007, 0.4993]], grad_fn=<SoftmaxBackward>), Categorical(), tensor([1]), tensor([-0.6946], grad_fn=<SqueezeBackward1>))\n",
        "# np.log(0.4993)\n",
        "# # -0.6945481614755734"
      ],
      "execution_count": 9,
      "outputs": []
    },
    {
      "cell_type": "code",
      "metadata": {
        "id": "w_RYkLaKCPxR",
        "colab_type": "code",
        "colab": {}
      },
      "source": [
        ""
      ],
      "execution_count": 9,
      "outputs": []
    },
    {
      "cell_type": "code",
      "metadata": {
        "id": "rZ05O7LkuTjs",
        "colab_type": "code",
        "colab": {}
      },
      "source": [
        ""
      ],
      "execution_count": 9,
      "outputs": []
    },
    {
      "cell_type": "code",
      "metadata": {
        "id": "TAzOnWWKAT9F",
        "colab_type": "code",
        "colab": {}
      },
      "source": [
        "def rollout(render=False,pause=.2):\n",
        "    states = []\n",
        "    rewards = []\n",
        "    log_probs = []\n",
        "    next_states = []\n",
        "    mask = []\n",
        "    # play an episode\n",
        "    state = env.reset()\n",
        "    while True:  # Don't infinite loop while learning\n",
        "        # select an action\n",
        "        action, log_prob = select_action(state)\n",
        "        states.append(list(state))\n",
        "        log_probs.append(log_prob[0])\n",
        "        \n",
        "        # take the action and move to next state\n",
        "        next_state, reward, done, _ = env.step(action)\n",
        "        rewards.append(reward)\n",
        "        next_states.append(next_state)\n",
        "        if render:\n",
        "            env.render()\n",
        "            time.sleep(pause)\n",
        "        if done:\n",
        "            mask.append(1)\n",
        "            break\n",
        "        mask.append(0)\n",
        "        state = next_state\n",
        "            \n",
        "    return states, rewards, log_probs, next_states, mask"
      ],
      "execution_count": 10,
      "outputs": []
    },
    {
      "cell_type": "markdown",
      "metadata": {
        "id": "NSZPgcmcAT9I",
        "colab_type": "text"
      },
      "source": [
        "# train function"
      ]
    },
    {
      "cell_type": "code",
      "metadata": {
        "id": "Bq_H6jcUAT9J",
        "colab_type": "code",
        "colab": {}
      },
      "source": [
        "def reinforce_train_step(states,rewards,log_probs):\n",
        "    \n",
        "    R = 0\n",
        "    P = 0\n",
        "    rewards_path = []\n",
        "    log_probs_paths = []\n",
        "    for i in reversed(range(len(rewards))):\n",
        "        R = rewards[i] + args.gamma * R\n",
        "        rewards_path.insert(0, R) \n",
        "        \n",
        "        P = log_probs[i] + P\n",
        "        log_probs_paths.insert(0, P) \n",
        "\n",
        "    rewards_path = torch.tensor(rewards_path)\n",
        "    rewards_path = (rewards_path - rewards_path.mean()) / (rewards_path.std() + 1e-8)\n",
        "    log_probs_paths = torch.stack(log_probs_paths)\n",
        "    \n",
        "#     print(rewards_path,log_probs_paths)\n",
        "    value = critic(torch.tensor(states, dtype=torch.float32))\n",
        "\n",
        "    # take a backward step for actor\n",
        "    # This is based on Pytorch implementation of REINFORCE \n",
        "    actor_loss = -torch.mean(((rewards_path - value.detach()) * torch.stack(log_probs)))\n",
        "    # This is based on the formual which Levine obtains for REINFORCE algorithm\n",
        "    # actor_loss = -torch.mean(((rewards_path - value.detach()) * log_probs_paths))\n",
        "    actor_optim.zero_grad()\n",
        "    actor_loss.backward()\n",
        "    actor_optim.step()\n",
        "\n",
        "    # take a backward step for critic\n",
        "    loss_fn = torch.nn.MSELoss()\n",
        "    critic_loss = loss_fn(value,rewards_path)\n",
        "    critic_optim.zero_grad()\n",
        "    critic_loss.backward()\n",
        "    critic_optim.step()\n"
      ],
      "execution_count": 11,
      "outputs": []
    },
    {
      "cell_type": "code",
      "metadata": {
        "id": "hfAh0rSMaDl4",
        "colab_type": "code",
        "colab": {}
      },
      "source": [
        "# Actor Critic \n",
        "def ac_train_step(states, rewards, log_probs, next_states, done):\n",
        "# states, rewards, log_probs, next_states = rollout()\n",
        "# if 1 == 1:\n",
        "    P = 0\n",
        "    rewards_path = []\n",
        "    log_probs_paths = []\n",
        "    qvalue = critic(torch.tensor(states, dtype=torch.float32))\n",
        "    next_qvalue = critic(torch.tensor(next_states, dtype=torch.float32))\n",
        "    next_qvalue = next_qvalue.detach().cpu().numpy()\n",
        "    target = []\n",
        "    for i in range(len(rewards)):\n",
        "        target.append(rewards[i] + args.gamma * next_qvalue[i]*(1-done[i]))\n",
        "        \n",
        "    target = torch.tensor(target)\n",
        "\n",
        "    # take a backward step for actor\n",
        "    # This is based on the commonly used AC algorithm  \n",
        "    actor_loss = -torch.mean(qvalue.detach() * torch.stack(log_probs))\n",
        "    actor_optim.zero_grad()\n",
        "    actor_loss.backward()\n",
        "    actor_optim.step()\n",
        "\n",
        "    # take a backward step for critic\n",
        "    loss_fn = torch.nn.MSELoss()\n",
        "    critic_loss = loss_fn(value, torch.tensor(target, dtype=torch.float32))\n",
        "    critic_optim.zero_grad()\n",
        "    critic_loss.backward()\n",
        "    critic_optim.step()\n"
      ],
      "execution_count": 12,
      "outputs": []
    },
    {
      "cell_type": "code",
      "metadata": {
        "id": "c-asw4wcRh-G",
        "colab_type": "code",
        "colab": {}
      },
      "source": [
        "# Advantage Actor Critic  (single worker A2C)\n",
        "def aac_train_step(states, rewards, log_probs, next_states, done):\n",
        "# states, rewards, log_probs, next_states = rollout()\n",
        "# if 1 == 1:\n",
        "    P = 0\n",
        "    rewards_path = []\n",
        "    log_probs_paths = []\n",
        "    value = critic(torch.tensor(states, dtype=torch.float32))\n",
        "    next_value = critic(torch.tensor(next_states, dtype=torch.float32))\n",
        "    next_value = next_value.detach().cpu().numpy()\n",
        "    advantage = []\n",
        "    target = []\n",
        "    for i in range(len(rewards)):\n",
        "        target.append(rewards[i] + args.gamma * next_value[i]*(1-done[i]))\n",
        "        advantage.append(target[i] - value[i].detach().cpu().numpy())\n",
        "        \n",
        "        P = log_probs[i] + P\n",
        "        log_probs_paths.insert(0, P) \n",
        "\n",
        "    advantage = torch.tensor(advantage)\n",
        "    target = torch.tensor(target)\n",
        "    cumulative_log_probs = torch.stack(log_probs_paths)\n",
        "    \n",
        "#     print(log_probs_paths)\n",
        "\n",
        "    # take a backward step for actor\n",
        "    # This is based on Pytorch implementation of AC \n",
        "    actor_loss = -torch.mean(advantage.detach() * torch.stack(log_probs))\n",
        "    # This is based on the formual which Levine obtains for AC algorithm\n",
        "    # actor_loss = -torch.mean(advantage.detach() * cumulative_log_probs)\n",
        "    actor_optim.zero_grad()\n",
        "    actor_loss.backward()\n",
        "    actor_optim.step()\n",
        "\n",
        "    # take a backward step for critic\n",
        "    loss_fn = torch.nn.MSELoss()\n",
        "    critic_loss = loss_fn(value, torch.tensor(target, dtype=torch.float32))\n",
        "    critic_optim.zero_grad()\n",
        "    critic_loss.backward()\n",
        "    critic_optim.step()\n"
      ],
      "execution_count": 13,
      "outputs": []
    },
    {
      "cell_type": "markdown",
      "metadata": {
        "id": "n4zw7GSYAT9M",
        "colab_type": "text"
      },
      "source": [
        "# run training"
      ]
    },
    {
      "cell_type": "code",
      "metadata": {
        "id": "2FGjCmdndDcj",
        "colab_type": "code",
        "colab": {
          "base_uri": "https://localhost:8080/",
          "height": 118
        },
        "outputId": "8db919e5-5e72-4556-e073-cad06d550bad"
      },
      "source": [
        "# create actor and critic network\n",
        "actor = Actor()\n",
        "critic = Critic()\n",
        "\n",
        "# create optimizers\n",
        "actor_optim = optim.Adam(actor.parameters(), lr=1e-3)\n",
        "critic_optim = optim.Adam(critic.parameters(), lr=1e-3)\n",
        "\n",
        "\n",
        "device = torch.device('cuda' if torch.cuda.is_available() else 'cpu')\n",
        "print('Using device:', device)\n",
        "print()\n",
        "\n",
        "#Additional Info when using cuda\n",
        "if device.type == 'cuda':\n",
        "    print(torch.cuda.get_device_name(0))\n",
        "    print('Memory Usage:')\n",
        "    print('Allocated:', round(torch.cuda.memory_allocated(0)/1024**3,1), 'GB')\n",
        "    print('Cached:   ', round(torch.cuda.memory_reserved(0)/1024**3,1), 'GB')"
      ],
      "execution_count": 14,
      "outputs": [
        {
          "output_type": "stream",
          "text": [
            "Using device: cuda\n",
            "\n",
            "Tesla P100-PCIE-16GB\n",
            "Memory Usage:\n",
            "Allocated: 0.0 GB\n",
            "Cached:    0.0 GB\n"
          ],
          "name": "stdout"
        }
      ]
    },
    {
      "cell_type": "code",
      "metadata": {
        "scrolled": true,
        "id": "Pxqb4tH4AT9N",
        "colab_type": "code",
        "colab": {
          "base_uri": "https://localhost:8080/",
          "height": 306
        },
        "outputId": "9fd384ae-19a6-49d6-fb42-88ddad56e0ab"
      },
      "source": [
        "running_reward = 10.\n",
        "for i_episode in range(10000):\n",
        "    states, rewards, log_probs, next_states, done = rollout()\n",
        "    t = len(rewards)\n",
        "    running_reward = 0.9*running_reward + 0.1*t\n",
        "    # reinforce_train_step(states, rewards, log_probs)\n",
        "    # ac_train_step(states, rewards, log_probs, next_states, done)\n",
        "    aac_train_step(states, rewards, log_probs, next_states, done)\n",
        "    if i_episode % args.log_interval == 0:\n",
        "        print('Episode {}\\tLast length: {:5d}\\tAverage length: {:.2f}'.format(\n",
        "            i_episode, t, running_reward))\n",
        "    if running_reward > env.spec.reward_threshold:\n",
        "        print(\"Solved! Running reward is now {} and \"\n",
        "              \"the last episode runs to {} time steps!\".format(running_reward, t))\n",
        "        break"
      ],
      "execution_count": 15,
      "outputs": [
        {
          "output_type": "stream",
          "text": [
            "Episode 0\tLast length:    31\tAverage length: 12.10\n"
          ],
          "name": "stdout"
        },
        {
          "output_type": "stream",
          "text": [
            "/usr/local/lib/python3.6/dist-packages/ipykernel_launcher.py:37: UserWarning: To copy construct from a tensor, it is recommended to use sourceTensor.clone().detach() or sourceTensor.clone().detach().requires_grad_(True), rather than torch.tensor(sourceTensor).\n"
          ],
          "name": "stderr"
        },
        {
          "output_type": "stream",
          "text": [
            "Episode 200\tLast length:    10\tAverage length: 16.24\n",
            "Episode 400\tLast length:    10\tAverage length: 9.77\n",
            "Episode 600\tLast length:    12\tAverage length: 10.06\n",
            "Episode 800\tLast length:     9\tAverage length: 12.72\n",
            "Episode 1000\tLast length:    36\tAverage length: 22.58\n",
            "Episode 1200\tLast length:    31\tAverage length: 41.48\n",
            "Episode 1400\tLast length:    38\tAverage length: 55.23\n",
            "Episode 1600\tLast length:    51\tAverage length: 55.56\n",
            "Episode 1800\tLast length:   100\tAverage length: 65.70\n",
            "Episode 2000\tLast length:   168\tAverage length: 93.40\n",
            "Episode 2200\tLast length:   109\tAverage length: 123.07\n",
            "Episode 2400\tLast length:   109\tAverage length: 133.79\n",
            "Episode 2600\tLast length:   200\tAverage length: 175.31\n",
            "Solved! Running reward is now 195.07267291359648 and the last episode runs to 200 time steps!\n"
          ],
          "name": "stdout"
        }
      ]
    },
    {
      "cell_type": "code",
      "metadata": {
        "id": "YDo7p8QBczwa",
        "colab_type": "code",
        "colab": {}
      },
      "source": [
        ""
      ],
      "execution_count": 15,
      "outputs": []
    },
    {
      "cell_type": "code",
      "metadata": {
        "id": "6jogUgc5cYyf",
        "colab_type": "code",
        "colab": {}
      },
      "source": [
        "running_reward = 10\n",
        "for i_episode in range(1000):\n",
        "    states, rewards, log_probs = rollout()\n",
        "    t = len(rewards)\n",
        "    running_reward = running_reward * 0.9 +  t * 0.1\n",
        "    ac_train_step(states, rewards, log_probs)\n",
        "    if i_episode % args.log_interval == 0:\n",
        "        print('Episode {}\\tLast length: {:5d}\\tAverage length: {:.2f}'.format(\n",
        "            i_episode, t, running_reward))\n",
        "    if running_reward > env.spec.reward_threshold:\n",
        "        print(\"Solved! Running reward is now {} and \"\n",
        "              \"the last episode runs to {} time steps!\".format(running_reward, t))\n",
        "        break"
      ],
      "execution_count": null,
      "outputs": []
    },
    {
      "cell_type": "code",
      "metadata": {
        "id": "6T_v8LrRcYuU",
        "colab_type": "code",
        "colab": {}
      },
      "source": [
        ""
      ],
      "execution_count": null,
      "outputs": []
    },
    {
      "cell_type": "code",
      "metadata": {
        "id": "cPxtYu3DqzSl",
        "colab_type": "code",
        "colab": {}
      },
      "source": [
        "# for var_name in actor_optim.state_dict():\n",
        "#     print(var_name, \"\\t\", actor_optim.state_dict()[var_name])\n",
        "\n",
        "d=actor_optim.state_dict()\n",
        "# d\n",
        "optimizer_state= actor_optim.state # holds all the information about the gradients, square of gradients and past gradients used in Adam \n",
        "\n",
        "te=d['state'][140575074157424]['exp_avg']\n",
        "te.shape"
      ],
      "execution_count": null,
      "outputs": []
    },
    {
      "cell_type": "code",
      "metadata": {
        "id": "erXIKeZZrGq2",
        "colab_type": "code",
        "colab": {}
      },
      "source": [
        "c=torch.nn.Conv1d(10,12,3)\n",
        "c=torch.nn.Conv2d(10,12,3)\n"
      ],
      "execution_count": null,
      "outputs": []
    },
    {
      "cell_type": "code",
      "metadata": {
        "id": "V95uZz_mrGt3",
        "colab_type": "code",
        "colab": {}
      },
      "source": [
        "for i in c.parameters():\n",
        "#   print (i['weight'])\n",
        "#   print (dir(i))\n",
        "  print (i.shape)\n",
        "  print (i.numel())\n",
        "#   print (i.count())"
      ],
      "execution_count": null,
      "outputs": []
    },
    {
      "cell_type": "markdown",
      "metadata": {
        "id": "D5k_5eaXAT9T",
        "colab_type": "text"
      },
      "source": [
        "# render optimal policy\n"
      ]
    },
    {
      "cell_type": "code",
      "metadata": {
        "id": "uchezPDiAT9V",
        "colab_type": "code",
        "colab": {}
      },
      "source": [
        "a = rollout(True,pause=.05)"
      ],
      "execution_count": null,
      "outputs": []
    },
    {
      "cell_type": "code",
      "metadata": {
        "id": "42D2h_DqAT9Y",
        "colab_type": "code",
        "colab": {}
      },
      "source": [
        "env.close()"
      ],
      "execution_count": null,
      "outputs": []
    },
    {
      "cell_type": "code",
      "metadata": {
        "id": "1J149hSkAT9b",
        "colab_type": "code",
        "colab": {}
      },
      "source": [
        "z=[5,7,9,12]\n",
        "for b in [1,2,10,30]:\n",
        "  print (\"------\",b)\n",
        "  s=sum([np.exp(i*b) for i in z])\n",
        "  for i in z:\n",
        "    print (np.exp(i*b)/s)"
      ],
      "execution_count": null,
      "outputs": []
    },
    {
      "cell_type": "code",
      "metadata": {
        "id": "vw8EBC7LaEJ-",
        "colab_type": "code",
        "colab": {}
      },
      "source": [
        "import torch\n",
        "\n",
        "batch_size = 5\n",
        "nb_digits = 10\n",
        "# Dummy input that HAS to be 2D for the scatter (you can use view(-1,1) if needed)\n",
        "y = torch.LongTensor(batch_size,1).random_() % nb_digits\n",
        "# One hot encoding buffer that you create out of the loop and just keep reusing\n",
        "y_onehot = torch.FloatTensor(batch_size, nb_digits)\n",
        "# In your for loop\n",
        "y_onehot.zero_()\n"
      ],
      "execution_count": null,
      "outputs": []
    },
    {
      "cell_type": "code",
      "metadata": {
        "id": "BAnWaDiWpsb9",
        "colab_type": "code",
        "colab": {}
      },
      "source": [
        "y_onehot.scatter_(1, y, 1)\n",
        "\n",
        "print(y)\n",
        "print(y_onehot)"
      ],
      "execution_count": null,
      "outputs": []
    },
    {
      "cell_type": "code",
      "metadata": {
        "id": "mwKVOFVZptyq",
        "colab_type": "code",
        "colab": {}
      },
      "source": [
        "d=torch.chunk(y_onehot,10,1)\n",
        "d[0]"
      ],
      "execution_count": null,
      "outputs": []
    },
    {
      "cell_type": "code",
      "metadata": {
        "id": "aCekDr840unT",
        "colab_type": "code",
        "colab": {}
      },
      "source": [
        ""
      ],
      "execution_count": null,
      "outputs": []
    }
  ]
}